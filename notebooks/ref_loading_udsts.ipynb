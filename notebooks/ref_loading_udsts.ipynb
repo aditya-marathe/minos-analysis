{
 "cells": [
  {
   "cell_type": "markdown",
   "metadata": {},
   "source": [
    "# [**Reference**] Loading $\\mu$-DSTs"
   ]
  },
  {
   "cell_type": "markdown",
   "metadata": {},
   "source": [
    "## Imports"
   ]
  },
  {
   "cell_type": "code",
   "execution_count": 1,
   "metadata": {},
   "outputs": [],
   "source": [
    "from __future__ import annotations\n",
    "\n",
    "import os\n",
    "\n",
    "from typing import Sequence, Any"
   ]
  },
  {
   "cell_type": "code",
   "execution_count": 2,
   "metadata": {},
   "outputs": [],
   "source": [
    "import uproot\n",
    "import pandas as pd"
   ]
  },
  {
   "cell_type": "code",
   "execution_count": 3,
   "metadata": {},
   "outputs": [],
   "source": [
    "import oscana\n",
    "import oscana.plotting as oscplt"
   ]
  },
  {
   "cell_type": "code",
   "execution_count": 4,
   "metadata": {},
   "outputs": [],
   "source": [
    "%matplotlib inline"
   ]
  },
  {
   "cell_type": "markdown",
   "metadata": {},
   "source": [
    "## Loading Data"
   ]
  },
  {
   "cell_type": "code",
   "execution_count": 5,
   "metadata": {},
   "outputs": [],
   "source": [
    "oscana.load_env_file()"
   ]
  },
  {
   "cell_type": "code",
   "execution_count": 6,
   "metadata": {},
   "outputs": [],
   "source": [
    "# Note: This method may not work in the future, as I intend to update Oscana to\n",
    "#       make loading ROOT files easier and to hide the dependency on Uproot.\n",
    "\n",
    "udst_uproot_import = [\n",
    "    uproot.open(oscana.apply_wsl_prefix(os.environ[\"uDST_2010_MC_FD_R1_1\"])),\n",
    "    uproot.open(oscana.apply_wsl_prefix(os.environ[\"uDST_2010_MC_FD_R1_2\"])),\n",
    "    uproot.open(oscana.apply_wsl_prefix(os.environ[\"uDST_2010_MC_FD_R1_3\"])),\n",
    "    uproot.open(oscana.apply_wsl_prefix(os.environ[\"uDST_2010_MC_FD_R1_4\"])),\n",
    "    uproot.open(oscana.apply_wsl_prefix(os.environ[\"uDST_2010_MC_FD_R1_5\"])),\n",
    "    uproot.open(oscana.apply_wsl_prefix(os.environ[\"uDST_2010_MC_FD_R1_6\"])),\n",
    "]"
   ]
  },
  {
   "cell_type": "markdown",
   "metadata": {},
   "source": [
    "## Helper Functions"
   ]
  },
  {
   "cell_type": "code",
   "execution_count": 7,
   "metadata": {},
   "outputs": [],
   "source": [
    "def get_keys(\n",
    "    udst_files: Sequence[Any],\n",
    "    keys: Sequence[str],\n",
    "    base_key: str = \"s;1\",\n",
    ") -> pd.DataFrame:\n",
    "    \"\"\"\\\n",
    "    [Notebook only] Get keys from Uproot files and return them as a DataFrame.\n",
    "    \"\"\"\n",
    "\n",
    "    df_list = []\n",
    "\n",
    "    for udst_df in udst_files:\n",
    "        df_list.append(\n",
    "            pd.DataFrame(\n",
    "                {\n",
    "                    key.split(\"/\")[-1]: udst_df[base_key][key].arrays(\n",
    "                        library=\"np\"\n",
    "                    )[key.split(\"/\")[-1]]\n",
    "                    for key in keys\n",
    "                }\n",
    "            )\n",
    "        )\n",
    "\n",
    "    return pd.concat(df_list, axis=0).reset_index(drop=True)"
   ]
  },
  {
   "cell_type": "markdown",
   "metadata": {},
   "source": [
    "## Building the `DataFrame`"
   ]
  },
  {
   "cell_type": "code",
   "execution_count": 11,
   "metadata": {},
   "outputs": [],
   "source": [
    "df = get_keys(\n",
    "    udst_uproot_import,\n",
    "    [\n",
    "        \"s/isInFidVolCC\",\n",
    "        \"s/isGoodDataQuality\",\n",
    "        \"s/isGoodDataQualityRUN\",\n",
    "        \"s/isGoodDataQualityCOIL\",\n",
    "        \"s/isGoodDataQualityHV\",\n",
    "        \"s/isGoodDataQualityGPS\",\n",
    "        \"s/isInFidVolCC\",\n",
    "        \"s/isGoodTrackReclamation\",\n",
    "        \"s/energy\",\n",
    "    ],\n",
    ")"
   ]
  },
  {
   "cell_type": "markdown",
   "metadata": {},
   "source": [
    "## Plotting"
   ]
  },
  {
   "cell_type": "code",
   "execution_count": 12,
   "metadata": {},
   "outputs": [],
   "source": [
    "# Note: Adding some rudiemntary cuts. A better method will be implemented to\n",
    "#       Oscana in the future.\n",
    "\n",
    "cuts = (\n",
    "    df[\"isGoodDataQuality\"]\n",
    "    & df[\"isGoodDataQualityRUN\"]\n",
    "    & df[\"isGoodDataQualityCOIL\"]\n",
    "    & df[\"isGoodDataQualityHV\"]\n",
    "    & df[\"isGoodDataQualityGPS\"]\n",
    "    & df[\"isInFidVolCC\"]\n",
    "    & df[\"isGoodTrackReclamation\"]\n",
    ")"
   ]
  },
  {
   "cell_type": "code",
   "execution_count": 13,
   "metadata": {},
   "outputs": [
    {
     "data": {
      "image/png": "[encoded data removed]",
      "text/plain": [
       "<Figure size 750x650 with 1 Axes>"
      ]
     },
     "metadata": {},
     "output_type": "display_data"
    }
   ],
   "source": [
    "with oscplt.context(theme_name=\"slate\"):\n",
    "    fig, axs = oscplt.layout.grid()\n",
    "\n",
    "    ax = axs[0]\n",
    "\n",
    "    ax.hist(\n",
    "        df[cuts][\"energy\"],\n",
    "        bins=oscplt.MINOS_GUESSED_ENERGY_BINS,\n",
    "        fill=True,\n",
    "        label=\"Reco.\".upper(),\n",
    "    )\n",
    "\n",
    "    ax.set_xlabel(\"Neutrino Energy, \".upper() + r\"$E_\\nu$ [GeV]\")\n",
    "    ax.set_ylabel(\"Events\".upper())\n",
    "\n",
    "    oscplt.modifiers.energy_axs_scale(ax)\n",
    "\n",
    "    ax.legend()\n",
    "\n",
    "    fig.tight_layout()"
   ]
  },
  {
   "cell_type": "code",
   "execution_count": null,
   "metadata": {},
   "outputs": [],
   "source": []
  }
 ],
 "metadata": {
  "kernelspec": {
   "display_name": ".venv",
   "language": "python",
   "name": "python3"
  },
  "language_info": {
   "codemirror_mode": {
    "name": "ipython",
    "version": 3
   },
   "file_extension": ".py",
   "mimetype": "text/x-python",
   "name": "python",
   "nbconvert_exporter": "python",
   "pygments_lexer": "ipython3",
   "version": "3.8.10"
  }
 },
 "nbformat": 4,
 "nbformat_minor": 2
}
